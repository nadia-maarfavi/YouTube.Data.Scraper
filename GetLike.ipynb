{
  "nbformat": 4,
  "nbformat_minor": 0,
  "metadata": {
    "colab": {
      "provenance": [],
      "mount_file_id": "1En-rhIKoG-NbSOu_wNadZ7O7Uv1Gbgcs",
      "authorship_tag": "ABX9TyPHDS5eLs7VwFK3H7GS1VCV",
      "include_colab_link": true
    },
    "kernelspec": {
      "name": "python3",
      "display_name": "Python 3"
    },
    "language_info": {
      "name": "python"
    }
  },
  "cells": [
    {
      "cell_type": "markdown",
      "metadata": {
        "id": "view-in-github",
        "colab_type": "text"
      },
      "source": [
        "<a href=\"https://colab.research.google.com/github/nadia-maarfavi/YouTube.Data.Scraper/blob/main/GetLike.ipynb\" target=\"_parent\"><img src=\"https://colab.research.google.com/assets/colab-badge.svg\" alt=\"Open In Colab\"/></a>"
      ]
    },
    {
      "cell_type": "code",
      "source": [
        "from apiclient.discovery import build"
      ],
      "metadata": {
        "id": "BSZv4eVH9xGl"
      },
      "execution_count": 14,
      "outputs": []
    },
    {
      "cell_type": "code",
      "source": [
        "youTubeApiKey=\".....\" #Get YouTube API Key using this instruction: https://developers.google.com/youtube/v3/getting-started#\n",
        "youtube=build('youtube','v3',developerKey=youTubeApiKey)\n"
      ],
      "metadata": {
        "id": "gX2YcLmw9zHK"
      },
      "execution_count": 15,
      "outputs": []
    },
    {
      "cell_type": "code",
      "source": [
        "def get_Info(videoId):\n",
        "\n",
        "   try:\n",
        "     request = youtube.videos().list(\n",
        "          part=\"statistics\",\n",
        "          id= videoId\n",
        "      )\n",
        "     response = request.execute()\n",
        "\n",
        "     for item in response['items']:\n",
        "        like_count = item['statistics']['likeCount']\n",
        "        view_count = item['statistics']['viewCount']\n",
        "        comments_count = item['statistics']['commentCount']\n",
        "   except:\n",
        "     print(\"error\")\n",
        "\n",
        "   print(\"No of Likes: {}, No of Views: {}, No of Comments: {}\".format(like_count, view_count, comments_count))\n",
        "   return"
      ],
      "metadata": {
        "id": "WWQA3eVJ-dMo"
      },
      "execution_count": 20,
      "outputs": []
    },
    {
      "cell_type": "code",
      "source": [
        "# You can find the video ID from the youtube URL, example:https://www.youtube.com/watch?v=eOrNdBpGM\n",
        "get_Info('eOrNdBpGMv8')"
      ],
      "metadata": {
        "colab": {
          "base_uri": "https://localhost:8080/"
        },
        "id": "SDvI_PJ5ytoV",
        "outputId": "14568aa4-1cc6-46b8-f1a0-6f9aaaabc1a1"
      },
      "execution_count": 21,
      "outputs": [
        {
          "output_type": "stream",
          "name": "stdout",
          "text": [
            "No of Likes: 341206, No of Views: 38230918, No of Comments: 44297\n"
          ]
        }
      ]
    }
  ]
}